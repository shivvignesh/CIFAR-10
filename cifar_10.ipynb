{
  "nbformat": 4,
  "nbformat_minor": 0,
  "metadata": {
    "colab": {
      "name": "cifar_10.ipynb",
      "version": "0.3.2",
      "provenance": [],
      "collapsed_sections": []
    },
    "kernelspec": {
      "name": "python3",
      "display_name": "Python 3"
    },
    "accelerator": "GPU"
  },
  "cells": [
    {
      "cell_type": "code",
      "metadata": {
        "id": "rq0a_Mqse-XY",
        "colab_type": "code",
        "colab": {}
      },
      "source": [
        ""
      ],
      "execution_count": 0,
      "outputs": []
    },
    {
      "cell_type": "code",
      "metadata": {
        "id": "KmLsOKOUfD-r",
        "colab_type": "code",
        "colab": {}
      },
      "source": [
        "import keras\n",
        "from keras.datasets import cifar10\n",
        "from keras.models import Sequential\n",
        "from keras.layers import Dense,Conv2D,Flatten,MaxPool2D,Dropout\n",
        "\n",
        "from sklearn.model_selection import train_test_split\n",
        "\n",
        "import matplotlib.pyplot as plt"
      ],
      "execution_count": 0,
      "outputs": []
    },
    {
      "cell_type": "code",
      "metadata": {
        "id": "kFfC9jiMfVTk",
        "colab_type": "code",
        "outputId": "e4df3d01-cc9c-4072-aedb-4dc1eb66e793",
        "colab": {
          "base_uri": "https://localhost:8080/",
          "height": 54
        }
      },
      "source": [
        "(x_train,y_train),(x_test,y_test)=cifar10.load_data()"
      ],
      "execution_count": 3,
      "outputs": [
        {
          "output_type": "stream",
          "text": [
            "Downloading data from https://www.cs.toronto.edu/~kriz/cifar-10-python.tar.gz\n",
            "170500096/170498071 [==============================] - 2s 0us/step\n"
          ],
          "name": "stdout"
        }
      ]
    },
    {
      "cell_type": "code",
      "metadata": {
        "id": "0q9Ehawjv5yJ",
        "colab_type": "code",
        "outputId": "93b934bc-f018-463f-8365-aa324bcf1477",
        "colab": {
          "base_uri": "https://localhost:8080/",
          "height": 35
        }
      },
      "source": [
        "x_train.shape"
      ],
      "execution_count": 4,
      "outputs": [
        {
          "output_type": "execute_result",
          "data": {
            "text/plain": [
              "(50000, 32, 32, 3)"
            ]
          },
          "metadata": {
            "tags": []
          },
          "execution_count": 4
        }
      ]
    },
    {
      "cell_type": "code",
      "metadata": {
        "id": "t1ngOO5PvEbl",
        "colab_type": "code",
        "outputId": "0a0d537a-d020-4eed-9f51-61e9df895653",
        "colab": {
          "base_uri": "https://localhost:8080/",
          "height": 287
        }
      },
      "source": [
        "plt.imshow(x_train[0])"
      ],
      "execution_count": 5,
      "outputs": [
        {
          "output_type": "execute_result",
          "data": {
            "text/plain": [
              "<matplotlib.image.AxesImage at 0x7f7edb4ebd30>"
            ]
          },
          "metadata": {
            "tags": []
          },
          "execution_count": 5
        },
        {
          "output_type": "display_data",
          "data": {
            "image/png": "[encoded data removed]",
            "text/plain": [
              "<Figure size 432x288 with 1 Axes>"
            ]
          },
          "metadata": {
            "tags": []
          }
        }
      ]
    },
    {
      "cell_type": "code",
      "metadata": {
        "id": "8evJh8XDvJ8N",
        "colab_type": "code",
        "outputId": "415bf50d-04f5-4a50-9be6-bf757f633948",
        "colab": {
          "base_uri": "https://localhost:8080/",
          "height": 35
        }
      },
      "source": [
        "x_train[0].shape"
      ],
      "execution_count": 6,
      "outputs": [
        {
          "output_type": "execute_result",
          "data": {
            "text/plain": [
              "(32, 32, 3)"
            ]
          },
          "metadata": {
            "tags": []
          },
          "execution_count": 6
        }
      ]
    },
    {
      "cell_type": "code",
      "metadata": {
        "id": "h1pejNo1vYaW",
        "colab_type": "code",
        "colab": {}
      },
      "source": [
        "from keras.utils import to_categorical"
      ],
      "execution_count": 0,
      "outputs": []
    },
    {
      "cell_type": "code",
      "metadata": {
        "id": "i2HKgOy-ve9m",
        "colab_type": "code",
        "colab": {}
      },
      "source": [
        "y_train=to_categorical(y_train)\n",
        "y_test=to_categorical(y_test)"
      ],
      "execution_count": 0,
      "outputs": []
    },
    {
      "cell_type": "code",
      "metadata": {
        "id": "zQgyTr3awtzf",
        "colab_type": "code",
        "colab": {}
      },
      "source": [
        "train_norm=x_train.astype('float32')\n",
        "test_norm=x_test.astype('float32')\n",
        "\n",
        "train_norm=train_norm/255.0\n",
        "test_norm=test_norm/255.0\n",
        "\n"
      ],
      "execution_count": 0,
      "outputs": []
    },
    {
      "cell_type": "code",
      "metadata": {
        "id": "JJxJUhYt17R-",
        "colab_type": "code",
        "outputId": "d313fac3-0f2f-46b9-d2c4-8fc5e8246277",
        "colab": {
          "base_uri": "https://localhost:8080/",
          "height": 35
        }
      },
      "source": [
        "y_train[0].shape"
      ],
      "execution_count": 10,
      "outputs": [
        {
          "output_type": "execute_result",
          "data": {
            "text/plain": [
              "(10,)"
            ]
          },
          "metadata": {
            "tags": []
          },
          "execution_count": 10
        }
      ]
    },
    {
      "cell_type": "code",
      "metadata": {
        "id": "Z1OlaOBE6uH-",
        "colab_type": "code",
        "outputId": "c0fc3c35-6bb9-4128-95ed-ff1f43c31b96",
        "colab": {
          "base_uri": "https://localhost:8080/",
          "height": 35
        }
      },
      "source": [
        "train_norm[0].shape"
      ],
      "execution_count": 11,
      "outputs": [
        {
          "output_type": "execute_result",
          "data": {
            "text/plain": [
              "(32, 32, 3)"
            ]
          },
          "metadata": {
            "tags": []
          },
          "execution_count": 11
        }
      ]
    },
    {
      "cell_type": "code",
      "metadata": {
        "id": "atxbuFwAwv3o",
        "colab_type": "code",
        "colab": {}
      },
      "source": [
        "model=Sequential()"
      ],
      "execution_count": 0,
      "outputs": []
    },
    {
      "cell_type": "code",
      "metadata": {
        "id": "4DtvGQ3gx3lG",
        "colab_type": "code",
        "colab": {}
      },
      "source": [
        "model.add(Conv2D(16,kernel_size=(3,3),padding=\"same\",activation='relu',input_shape=train_norm[0].shape))\n",
        "model.add(Conv2D(16,kernel_size=(3,3),padding=\"same\",activation='relu'))\n",
        "model.add(MaxPool2D(2,2))\n",
        "model.add(Dropout(0.25))\n",
        "model.add(Conv2D(32,kernel_size=(3,3),padding=\"same\",activation='relu'))\n",
        "model.add(Conv2D(32,kernel_size=(3,3),padding=\"same\",activation='relu'))\n",
        "model.add(MaxPool2D(2,2))\n",
        "model.add(Dropout(0.25))\n",
        "model.add(Conv2D(64,kernel_size=(3,3),padding=\"same\",activation='relu'))\n",
        "model.add(Conv2D(64,kernel_size=(3,3),padding=\"same\",activation='relu'))\n",
        "model.add(MaxPool2D(2,2))\n",
        "model.add(Dropout(0.25))\n",
        "model.add(Flatten())\n",
        "model.add(Dense(512,activation='relu'))\n",
        "model.add(Dropout(0.5))\n",
        "# model.add(Dense(128,activation='relu'))\n",
        "# model.add(Dense(64,activation='relu'))\n",
        "model.add(Dense(10,activation='softmax'))"
      ],
      "execution_count": 0,
      "outputs": []
    },
    {
      "cell_type": "code",
      "metadata": {
        "id": "mg2o6qSl3jGB",
        "colab_type": "code",
        "colab": {}
      },
      "source": [
        "model.compile(loss='categorical_crossentropy',optimizer='adam',metrics=['accuracy'])"
      ],
      "execution_count": 0,
      "outputs": []
    },
    {
      "cell_type": "code",
      "metadata": {
        "id": "gEWVuSLJ8enG",
        "colab_type": "code",
        "outputId": "d421ca1f-97de-465e-e4db-07ccb0006172",
        "colab": {
          "base_uri": "https://localhost:8080/",
          "height": 726
        }
      },
      "source": [
        "model.summary()"
      ],
      "execution_count": 42,
      "outputs": [
        {
          "output_type": "stream",
          "text": [
            "_________________________________________________________________\n",
            "Layer (type)                 Output Shape              Param #   \n",
            "=================================================================\n",
            "conv2d_16 (Conv2D)           (None, 32, 32, 16)        448       \n",
            "_________________________________________________________________\n",
            "conv2d_17 (Conv2D)           (None, 32, 32, 16)        2320      \n",
            "_________________________________________________________________\n",
            "max_pooling2d_8 (MaxPooling2 (None, 16, 16, 16)        0         \n",
            "_________________________________________________________________\n",
            "dropout_5 (Dropout)          (None, 16, 16, 16)        0         \n",
            "_________________________________________________________________\n",
            "conv2d_18 (Conv2D)           (None, 16, 16, 32)        4640      \n",
            "_________________________________________________________________\n",
            "conv2d_19 (Conv2D)           (None, 16, 16, 32)        9248      \n",
            "_________________________________________________________________\n",
            "max_pooling2d_9 (MaxPooling2 (None, 8, 8, 32)          0         \n",
            "_________________________________________________________________\n",
            "dropout_6 (Dropout)          (None, 8, 8, 32)          0         \n",
            "_________________________________________________________________\n",
            "conv2d_20 (Conv2D)           (None, 8, 8, 64)          18496     \n",
            "_________________________________________________________________\n",
            "conv2d_21 (Conv2D)           (None, 8, 8, 64)          36928     \n",
            "_________________________________________________________________\n",
            "max_pooling2d_10 (MaxPooling (None, 4, 4, 64)          0         \n",
            "_________________________________________________________________\n",
            "dropout_7 (Dropout)          (None, 4, 4, 64)          0         \n",
            "_________________________________________________________________\n",
            "flatten_4 (Flatten)          (None, 1024)              0         \n",
            "_________________________________________________________________\n",
            "dense_9 (Dense)              (None, 512)               524800    \n",
            "_________________________________________________________________\n",
            "dropout_8 (Dropout)          (None, 512)               0         \n",
            "_________________________________________________________________\n",
            "dense_10 (Dense)             (None, 10)                5130      \n",
            "=================================================================\n",
            "Total params: 602,010\n",
            "Trainable params: 602,010\n",
            "Non-trainable params: 0\n",
            "_________________________________________________________________\n"
          ],
          "name": "stdout"
        }
      ]
    },
    {
      "cell_type": "code",
      "metadata": {
        "id": "pSjPCffR8kGG",
        "colab_type": "code",
        "outputId": "26eb493d-3654-48d3-ce83-6943fde826bb",
        "colab": {
          "base_uri": "https://localhost:8080/",
          "height": 581
        }
      },
      "source": [
        "history=model.fit(train_norm,y_train,validation_data=(test_norm,y_test),epochs=15)"
      ],
      "execution_count": 43,
      "outputs": [
        {
          "output_type": "stream",
          "text": [
            "Train on 50000 samples, validate on 10000 samples\n",
            "Epoch 1/15\n",
            "50000/50000 [==============================] - 12s 250us/step - loss: 1.6616 - acc: 0.3825 - val_loss: 1.3150 - val_acc: 0.5181\n",
            "Epoch 2/15\n",
            "50000/50000 [==============================] - 12s 231us/step - loss: 1.2669 - acc: 0.5427 - val_loss: 1.0931 - val_acc: 0.6105\n",
            "Epoch 3/15\n",
            "50000/50000 [==============================] - 11s 228us/step - loss: 1.1021 - acc: 0.6073 - val_loss: 0.9725 - val_acc: 0.6524\n",
            "Epoch 4/15\n",
            "50000/50000 [==============================] - 11s 228us/step - loss: 1.0141 - acc: 0.6403 - val_loss: 0.8965 - val_acc: 0.6789\n",
            "Epoch 5/15\n",
            "50000/50000 [==============================] - 11s 228us/step - loss: 0.9553 - acc: 0.6613 - val_loss: 0.8475 - val_acc: 0.7001\n",
            "Epoch 6/15\n",
            "50000/50000 [==============================] - 11s 228us/step - loss: 0.9168 - acc: 0.6758 - val_loss: 0.8373 - val_acc: 0.7034\n",
            "Epoch 7/15\n",
            "50000/50000 [==============================] - 11s 230us/step - loss: 0.8759 - acc: 0.6906 - val_loss: 0.7990 - val_acc: 0.7157\n",
            "Epoch 8/15\n",
            "50000/50000 [==============================] - 11s 227us/step - loss: 0.8474 - acc: 0.7014 - val_loss: 0.7617 - val_acc: 0.7366\n",
            "Epoch 9/15\n",
            "50000/50000 [==============================] - 11s 229us/step - loss: 0.8320 - acc: 0.7067 - val_loss: 0.7550 - val_acc: 0.7398\n",
            "Epoch 10/15\n",
            "50000/50000 [==============================] - 11s 226us/step - loss: 0.8081 - acc: 0.7166 - val_loss: 0.7734 - val_acc: 0.7314\n",
            "Epoch 11/15\n",
            "50000/50000 [==============================] - 11s 225us/step - loss: 0.7910 - acc: 0.7214 - val_loss: 0.7750 - val_acc: 0.7356\n",
            "Epoch 12/15\n",
            "50000/50000 [==============================] - 11s 225us/step - loss: 0.7741 - acc: 0.7277 - val_loss: 0.7341 - val_acc: 0.7489\n",
            "Epoch 13/15\n",
            "50000/50000 [==============================] - 11s 225us/step - loss: 0.7647 - acc: 0.7309 - val_loss: 0.7310 - val_acc: 0.7512\n",
            "Epoch 14/15\n",
            "50000/50000 [==============================] - 11s 227us/step - loss: 0.7524 - acc: 0.7372 - val_loss: 0.7453 - val_acc: 0.7472\n",
            "Epoch 15/15\n",
            "50000/50000 [==============================] - 11s 225us/step - loss: 0.7474 - acc: 0.7396 - val_loss: 0.7754 - val_acc: 0.7353\n"
          ],
          "name": "stdout"
        }
      ]
    },
    {
      "cell_type": "code",
      "metadata": {
        "id": "iOVRDN7T8xlA",
        "colab_type": "code",
        "colab": {
          "base_uri": "https://localhost:8080/",
          "height": 54
        },
        "outputId": "b3ba15b0-d7f9-4b21-ce60-cc8664b03cae"
      },
      "source": [
        "model.evaluate(test_norm,y_test)"
      ],
      "execution_count": 44,
      "outputs": [
        {
          "output_type": "stream",
          "text": [
            "10000/10000 [==============================] - 1s 84us/step\n"
          ],
          "name": "stdout"
        },
        {
          "output_type": "execute_result",
          "data": {
            "text/plain": [
              "[0.7754018783569336, 0.7353]"
            ]
          },
          "metadata": {
            "tags": []
          },
          "execution_count": 44
        }
      ]
    },
    {
      "cell_type": "code",
      "metadata": {
        "id": "MDQJURl9tJJz",
        "colab_type": "code",
        "colab": {
          "base_uri": "https://localhost:8080/",
          "height": 287
        },
        "outputId": "7e84e5f6-6c45-4894-ad52-c2d1f2414b1a"
      },
      "source": [
        "plt.plot(history.epoch,history.history['loss'])"
      ],
      "execution_count": 47,
      "outputs": [
        {
          "output_type": "execute_result",
          "data": {
            "text/plain": [
              "[<matplotlib.lines.Line2D at 0x7f7e4fa4cdd8>]"
            ]
          },
          "metadata": {
            "tags": []
          },
          "execution_count": 47
        },
        {
          "output_type": "display_data",
          "data": {
            "image/png": "[encoded data removed]",
            "text/plain": [
              "<Figure size 432x288 with 1 Axes>"
            ]
          },
          "metadata": {
            "tags": []
          }
        }
      ]
    },
    {
      "cell_type": "code",
      "metadata": {
        "id": "U0d9ff3wR5fy",
        "colab_type": "code",
        "colab": {
          "base_uri": "https://localhost:8080/",
          "height": 287
        },
        "outputId": "32847cfb-68fe-484c-bb2c-3e4fec191192"
      },
      "source": [
        "plt.plot(history.epoch,history.history['val_loss'])"
      ],
      "execution_count": 46,
      "outputs": [
        {
          "output_type": "execute_result",
          "data": {
            "text/plain": [
              "[<matplotlib.lines.Line2D at 0x7f7e4faeed30>]"
            ]
          },
          "metadata": {
            "tags": []
          },
          "execution_count": 46
        },
        {
          "output_type": "display_data",
          "data": {
            "image/png": "[encoded data removed]",
            "text/plain": [
              "<Figure size 432x288 with 1 Axes>"
            ]
          },
          "metadata": {
            "tags": []
          }
        }
      ]
    },
    {
      "cell_type": "code",
      "metadata": {
        "id": "iGGyet5AbX4q",
        "colab_type": "code",
        "colab": {}
      },
      "source": [
        ""
      ],
      "execution_count": 0,
      "outputs": []
    }
  ]
}